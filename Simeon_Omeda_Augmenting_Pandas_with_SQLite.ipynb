{
  "nbformat": 4,
  "nbformat_minor": 0,
  "metadata": {
    "colab": {
      "provenance": []
    },
    "kernelspec": {
      "name": "python3",
      "display_name": "Python 3"
    },
    "language_info": {
      "name": "python"
    }
  },
  "cells": [
    {
      "cell_type": "markdown",
      "metadata": {
        "id": "2ZK7M8-wZ_J8"
      },
      "source": [
        "# Simeon Omeda: Augmenting Pandas with SQLite"
      ]
    },
    {
      "cell_type": "markdown",
      "metadata": {
        "id": "qadTA4HuceEl"
      },
      "source": [
        "## Question 1: Introduction"
      ]
    },
    {
      "cell_type": "markdown",
      "metadata": {
        "id": "aF9k8rixclSR"
      },
      "source": [
        "In this session, we explored a few different ways to work with larger datasets in pandas. In this guided project, we'll practice using some of the techniques we learned to analyze startup investments from Crunchbase.com.\n",
        "\n",
        "Every year, thousands of startup companies raise financing from investors. Each time a startup raises money, we refer to the event as a fundraising round. Crunchbase is a website that crowdsources information on the fundraising rounds of many startups. The Crunchbase user community submits, edits, and maintains most of the information in Crunchbase.\n",
        "\n",
        "In return, Crunchbase makes the data available through a Web application and a fee-based API. Before Crunchbase switched to the paid API model, multiple groups crawled the site and released the data online. Because the information on the startups and their fundraising rounds is always changing, the data set we'll be using isn't completely up to date.\n",
        "\n",
        "Throughout this project, we'll practice working with different memory constraints. In this step, let's assume we only have 10 megabytes of available memory. While crunchbase-investments.csv (https://bit.ly/3BPcobU) consumes 10.3 megabytes of disk space, we know from earlier lessons that pandas often requires 4 to 6 times amount of space in memory as the file does on disk (especially when there's many string columns).\n",
        "\n",
        "\n",
        "**Tasks**\n",
        "\n",
        "* Because the data set contains over 50,000 rows, you'll need to read the data set into dataframes using 5,000 row chunks to ensure that each chunk consumes much less than 10 megabytes of memory.\n",
        "* Across all of the chunks, become familiar with:\n",
        "1. Each column's missing value counts.\n",
        "2. Each column's memory footprint.\n",
        "3. The total memory footprint of all of the chunks combined.\n",
        "4. Which column(s) we can drop because they aren't useful for analysis.\n",
        "\n"
      ]
    },
    {
      "cell_type": "code",
      "metadata": {
        "id": "tOYoNl5qe1ow",
        "colab": {
          "base_uri": "https://localhost:8080/"
        },
        "outputId": "bd89d952-d772-440b-d726-b89ffe5f4127"
      },
      "source": [
        "# Your code goes here\n",
        "# Dataset URL = https://bit.ly/3BPcobU\n",
        "#\n",
        "import pandas as pd\n",
        "\n",
        "df = pd.read_csv(\"https://bit.ly/3BPcobU\",encoding = 'unicode_escape')\n",
        "df.shape"
      ],
      "execution_count": 10,
      "outputs": [
        {
          "output_type": "stream",
          "name": "stderr",
          "text": [
            "/usr/local/lib/python3.8/dist-packages/IPython/core/interactiveshell.py:3326: DtypeWarning: Columns (9) have mixed types.Specify dtype option on import or set low_memory=False.\n",
            "  exec(code_obj, self.user_global_ns, self.user_ns)\n"
          ]
        },
        {
          "output_type": "execute_result",
          "data": {
            "text/plain": [
              "(52870, 20)"
            ]
          },
          "metadata": {},
          "execution_count": 10
        }
      ]
    },
    {
      "cell_type": "code",
      "source": [
        "# Each column's missing value counts\n",
        "\n",
        "df.isnull().sum()"
      ],
      "metadata": {
        "colab": {
          "base_uri": "https://localhost:8080/"
        },
        "id": "7_gNC5MF5QFJ",
        "outputId": "1f8c54a6-6e44-4efa-e1a5-867676271d0b"
      },
      "execution_count": 11,
      "outputs": [
        {
          "output_type": "execute_result",
          "data": {
            "text/plain": [
              "company_permalink             1\n",
              "company_name                  1\n",
              "company_category_code       643\n",
              "company_country_code          1\n",
              "company_state_code          492\n",
              "company_region                1\n",
              "company_city                533\n",
              "investor_permalink            2\n",
              "investor_name                 2\n",
              "investor_category_code    50427\n",
              "investor_country_code     12001\n",
              "investor_state_code       16809\n",
              "investor_region               2\n",
              "investor_city             12480\n",
              "funding_round_type            3\n",
              "funded_at                     3\n",
              "funded_month                  3\n",
              "funded_quarter                3\n",
              "funded_year                   3\n",
              "raised_amount_usd          3599\n",
              "dtype: int64"
            ]
          },
          "metadata": {},
          "execution_count": 11
        }
      ]
    },
    {
      "cell_type": "code",
      "source": [
        "# Each column's memory footprint.\n",
        "#calcualting memeory usage per chunk  \n",
        "df = pd.read_csv('https://bit.ly/3BPcobU', encoding = \"unicode_escape\", chunksize = 5000,)\n",
        "\n",
        "chunk_idx = 0\n",
        "chunk_memory_usage = 0\n",
        "initial_memory_usage = 0\n",
        "\n",
        "for chunk in df:\n",
        "  chunk_memory_usage = chunk.memory_usage(deep=True).sum()/(1024**2)\n",
        "  initial_memory_usage +=chunk_memory_usage\n",
        "  chunk_idx += 1\n",
        "  print(f'Chunk {chunk_idx} Memory Usage: {chunk_memory_usage}MB')\n",
        "\n",
        "print(f'\\nTotal memory footprint of all chunks={initial_memory_usage}MB')\n"
      ],
      "metadata": {
        "colab": {
          "base_uri": "https://localhost:8080/"
        },
        "id": "c25QB9245lIE",
        "outputId": "cd2bfffe-6b97-4236-d0eb-e77bd15db353"
      },
      "execution_count": 17,
      "outputs": [
        {
          "output_type": "stream",
          "name": "stdout",
          "text": [
            "Chunk 1 Memory Usage: 5.579240798950195MB\n",
            "Chunk 2 Memory Usage: 5.528232574462891MB\n",
            "Chunk 3 Memory Usage: 5.535050392150879MB\n",
            "Chunk 4 Memory Usage: 5.528193473815918MB\n",
            "Chunk 5 Memory Usage: 5.5243377685546875MB\n",
            "Chunk 6 Memory Usage: 5.553427696228027MB\n",
            "Chunk 7 Memory Usage: 5.531436920166016MB\n",
            "Chunk 8 Memory Usage: 5.5096588134765625MB\n",
            "Chunk 9 Memory Usage: 5.396121025085449MB\n",
            "Chunk 10 Memory Usage: 4.639497756958008MB\n",
            "Chunk 11 Memory Usage: 2.6637144088745117MB\n",
            "\n",
            "Total memory footprint of all chunks=56.988911628723145MB\n"
          ]
        }
      ]
    },
    {
      "cell_type": "markdown",
      "metadata": {
        "id": "NOEk3_YPdg6p"
      },
      "source": [
        "## Question 2: Selecting Data Types"
      ]
    },
    {
      "cell_type": "markdown",
      "metadata": {
        "id": "FD1IqmzhcEd3"
      },
      "source": [
        "Now that we have a good sense of the missing values, let's get familiar with the column types before adding the data into SQLite.\n",
        "\n",
        "**Tasks**\n",
        "\n",
        "* Identify the types for each column.\n",
        "* Identify the numeric columns we can represent using more space efficient types.\n",
        "For text columns:\n",
        "* Analyze the unique value counts across all of the chunks to see if we can convert them to a numeric type.\n",
        "* See if we clean clean any text columns and separate them into multiple numeric columns without adding any overhead when querying.\n",
        "* Make your changes to the code from the last step so that the overall memory the data consumes stays under 10 megabytes.\n"
      ]
    },
    {
      "cell_type": "code",
      "source": [
        "# Identify the types for each column.\n",
        "# Your code goes here\n",
        "df = pd.read_csv( 'https://bit.ly/3BPcobU', encoding = \"unicode_escape\")\n",
        "df.dtypes"
      ],
      "metadata": {
        "colab": {
          "base_uri": "https://localhost:8080/"
        },
        "id": "_VnoS-MhJu1y",
        "outputId": "13fd0623-5110-4aae-8db0-33eb82dc1d5b"
      },
      "execution_count": 19,
      "outputs": [
        {
          "output_type": "execute_result",
          "data": {
            "text/plain": [
              "company_permalink          object\n",
              "company_name               object\n",
              "company_category_code      object\n",
              "company_country_code       object\n",
              "company_state_code         object\n",
              "company_region             object\n",
              "company_city               object\n",
              "investor_permalink         object\n",
              "investor_name              object\n",
              "investor_category_code     object\n",
              "investor_country_code      object\n",
              "investor_state_code        object\n",
              "investor_region            object\n",
              "investor_city              object\n",
              "funding_round_type         object\n",
              "funded_at                  object\n",
              "funded_month               object\n",
              "funded_quarter             object\n",
              "funded_year               float64\n",
              "raised_amount_usd         float64\n",
              "dtype: object"
            ]
          },
          "metadata": {},
          "execution_count": 19
        }
      ]
    },
    {
      "cell_type": "code",
      "source": [
        "# Identify the numeric columns we can represent using more space efficient types\n",
        "import numpy as np\n",
        "\n",
        "def change_to_int(df, col_name):\n",
        "   \n",
        "    max_col = df[col_name].max()\n",
        "    min_col = df[col_name].min()\n",
        "   \n",
        "    for dtype_name in ['int8', 'int16', 'int32', 'int64']:\n",
        "        \n",
        "        if max_col <  np.iinfo(dtype_name).max and min_col > np.iinfo(dtype_name).min:\n",
        "            df[col_name] = df[col_name].astype(dtype_name)\n",
        "            break\n",
        "\n",
        "use_cols = ['investor_region', 'investor_permalink', 'investor_name',\n",
        "        'investor_country_code', 'investor_city', 'funding_round_type',\n",
        "        'company_category_code', 'funded_at', 'company_state_code',\n",
        "        'company_region', 'company_permalink', 'company_name', \n",
        "        'company_country_code', 'company_city', 'investor_state_code', \n",
        "        'funded_quarter', 'raised_amount_usd']\n",
        "\n",
        "df = pd.read_csv( 'https://bit.ly/3BPcobU', encoding = \"unicode_escape\",  usecols=use_cols, chunksize=5000)\n",
        "Total_memory = 0\n",
        "for chunk in df:\n",
        "  chunk['raised_amount_usd'] = chunk['raised_amount_usd'].fillna(0)\n",
        "  change_to_int(chunk, 'raised_amount_usd' )\n",
        "  chunk_memory = chunk.memory_usage(deep=True).sum() /(1024**2)\n",
        "  Total_memory +=chunk_memory\n",
        "\n",
        "  print(chunk.dtypes)\n",
        "  print('==' *20)\n",
        "\n",
        "print(f'Total Memory {Total_memory}MB')"
      ],
      "metadata": {
        "colab": {
          "base_uri": "https://localhost:8080/"
        },
        "id": "vV2U1CsUKL9w",
        "outputId": "5a2de0d1-32e4-4f56-b83f-089be6c475ba"
      },
      "execution_count": 20,
      "outputs": [
        {
          "output_type": "stream",
          "name": "stdout",
          "text": [
            "company_permalink        object\n",
            "company_name             object\n",
            "company_category_code    object\n",
            "company_country_code     object\n",
            "company_state_code       object\n",
            "company_region           object\n",
            "company_city             object\n",
            "investor_permalink       object\n",
            "investor_name            object\n",
            "investor_country_code    object\n",
            "investor_state_code      object\n",
            "investor_region          object\n",
            "investor_city            object\n",
            "funding_round_type       object\n",
            "funded_at                object\n",
            "funded_quarter           object\n",
            "raised_amount_usd         int64\n",
            "dtype: object\n",
            "========================================\n",
            "company_permalink        object\n",
            "company_name             object\n",
            "company_category_code    object\n",
            "company_country_code     object\n",
            "company_state_code       object\n",
            "company_region           object\n",
            "company_city             object\n",
            "investor_permalink       object\n",
            "investor_name            object\n",
            "investor_country_code    object\n",
            "investor_state_code      object\n",
            "investor_region          object\n",
            "investor_city            object\n",
            "funding_round_type       object\n",
            "funded_at                object\n",
            "funded_quarter           object\n",
            "raised_amount_usd         int32\n",
            "dtype: object\n",
            "========================================\n",
            "company_permalink        object\n",
            "company_name             object\n",
            "company_category_code    object\n",
            "company_country_code     object\n",
            "company_state_code       object\n",
            "company_region           object\n",
            "company_city             object\n",
            "investor_permalink       object\n",
            "investor_name            object\n",
            "investor_country_code    object\n",
            "investor_state_code      object\n",
            "investor_region          object\n",
            "investor_city            object\n",
            "funding_round_type       object\n",
            "funded_at                object\n",
            "funded_quarter           object\n",
            "raised_amount_usd         int32\n",
            "dtype: object\n",
            "========================================\n",
            "company_permalink        object\n",
            "company_name             object\n",
            "company_category_code    object\n",
            "company_country_code     object\n",
            "company_state_code       object\n",
            "company_region           object\n",
            "company_city             object\n",
            "investor_permalink       object\n",
            "investor_name            object\n",
            "investor_country_code    object\n",
            "investor_state_code      object\n",
            "investor_region          object\n",
            "investor_city            object\n",
            "funding_round_type       object\n",
            "funded_at                object\n",
            "funded_quarter           object\n",
            "raised_amount_usd         int32\n",
            "dtype: object\n",
            "========================================\n",
            "company_permalink        object\n",
            "company_name             object\n",
            "company_category_code    object\n",
            "company_country_code     object\n",
            "company_state_code       object\n",
            "company_region           object\n",
            "company_city             object\n",
            "investor_permalink       object\n",
            "investor_name            object\n",
            "investor_country_code    object\n",
            "investor_state_code      object\n",
            "investor_region          object\n",
            "investor_city            object\n",
            "funding_round_type       object\n",
            "funded_at                object\n",
            "funded_quarter           object\n",
            "raised_amount_usd         int32\n",
            "dtype: object\n",
            "========================================\n",
            "company_permalink        object\n",
            "company_name             object\n",
            "company_category_code    object\n",
            "company_country_code     object\n",
            "company_state_code       object\n",
            "company_region           object\n",
            "company_city             object\n",
            "investor_permalink       object\n",
            "investor_name            object\n",
            "investor_country_code    object\n",
            "investor_state_code      object\n",
            "investor_region          object\n",
            "investor_city            object\n",
            "funding_round_type       object\n",
            "funded_at                object\n",
            "funded_quarter           object\n",
            "raised_amount_usd         int64\n",
            "dtype: object\n",
            "========================================\n",
            "company_permalink        object\n",
            "company_name             object\n",
            "company_category_code    object\n",
            "company_country_code     object\n",
            "company_state_code       object\n",
            "company_region           object\n",
            "company_city             object\n",
            "investor_permalink       object\n",
            "investor_name            object\n",
            "investor_country_code    object\n",
            "investor_state_code      object\n",
            "investor_region          object\n",
            "investor_city            object\n",
            "funding_round_type       object\n",
            "funded_at                object\n",
            "funded_quarter           object\n",
            "raised_amount_usd         int32\n",
            "dtype: object\n",
            "========================================\n",
            "company_permalink        object\n",
            "company_name             object\n",
            "company_category_code    object\n",
            "company_country_code     object\n",
            "company_state_code       object\n",
            "company_region           object\n",
            "company_city             object\n",
            "investor_permalink       object\n",
            "investor_name            object\n",
            "investor_country_code    object\n",
            "investor_state_code      object\n",
            "investor_region          object\n",
            "investor_city            object\n",
            "funding_round_type       object\n",
            "funded_at                object\n",
            "funded_quarter           object\n",
            "raised_amount_usd         int32\n",
            "dtype: object\n",
            "========================================\n",
            "company_permalink        object\n",
            "company_name             object\n",
            "company_category_code    object\n",
            "company_country_code     object\n",
            "company_state_code       object\n",
            "company_region           object\n",
            "company_city             object\n",
            "investor_permalink       object\n",
            "investor_name            object\n",
            "investor_country_code    object\n",
            "investor_state_code      object\n",
            "investor_region          object\n",
            "investor_city            object\n",
            "funding_round_type       object\n",
            "funded_at                object\n",
            "funded_quarter           object\n",
            "raised_amount_usd         int32\n",
            "dtype: object\n",
            "========================================\n",
            "company_permalink         object\n",
            "company_name              object\n",
            "company_category_code     object\n",
            "company_country_code      object\n",
            "company_state_code        object\n",
            "company_region            object\n",
            "company_city              object\n",
            "investor_permalink        object\n",
            "investor_name             object\n",
            "investor_country_code    float64\n",
            "investor_state_code      float64\n",
            "investor_region           object\n",
            "investor_city            float64\n",
            "funding_round_type        object\n",
            "funded_at                 object\n",
            "funded_quarter            object\n",
            "raised_amount_usd          int32\n",
            "dtype: object\n",
            "========================================\n",
            "company_permalink         object\n",
            "company_name              object\n",
            "company_category_code     object\n",
            "company_country_code      object\n",
            "company_state_code        object\n",
            "company_region            object\n",
            "company_city              object\n",
            "investor_permalink        object\n",
            "investor_name             object\n",
            "investor_country_code    float64\n",
            "investor_state_code      float64\n",
            "investor_region           object\n",
            "investor_city            float64\n",
            "funding_round_type        object\n",
            "funded_at                 object\n",
            "funded_quarter            object\n",
            "raised_amount_usd          int32\n",
            "dtype: object\n",
            "========================================\n",
            "Total Memory 52.601582527160645MB\n"
          ]
        }
      ]
    },
    {
      "cell_type": "code",
      "source": [
        "\n",
        "#optimize string cols \n",
        "total_memory = 0\n",
        "df = pd.read_csv( 'https://bit.ly/3BPcobU', encoding = \"unicode_escape\",  usecols=use_cols, chunksize=5000)\n",
        "for chunk in df:\n",
        "    # Optimize numeric column\n",
        "    chunk['raised_amount_usd'] = chunk['raised_amount_usd'].fillna(0)\n",
        "    change_to_int(chunk, 'raised_amount_usd' )\n",
        "\n",
        "    # Optimize 'funded_quarter' column\n",
        "    chunk['funded_quarter'] = chunk['funded_quarter'].str.extract(r'Q(\\d)', expand=False)\n",
        "    chunk['funded_quarter'] = chunk['funded_quarter'].fillna(-1)\n",
        "    chunk['funded_quarter'] = chunk['funded_quarter'].astype('int8')\n",
        "\n",
        "    chunk_memory = chunk.memory_usage(deep=True).sum()\n",
        "    total_memory += chunk_memory\n",
        "    print('Chunk memory usage (MB) =', chunk_memory/(1024**2))\n",
        "print('--'*30)\n",
        "print('Total memory usage (MB) =', total_memory/(1024**2))\n",
        "print('--'*20)"
      ],
      "metadata": {
        "colab": {
          "base_uri": "https://localhost:8080/"
        },
        "id": "He7ekucVLKoS",
        "outputId": "ac9c3544-321e-4d09-fc41-9bad345d30e6"
      },
      "execution_count": 22,
      "outputs": [
        {
          "output_type": "stream",
          "name": "stdout",
          "text": [
            "Chunk memory usage (MB) = 4.70713996887207\n",
            "Chunk memory usage (MB) = 4.827281951904297\n",
            "Chunk memory usage (MB) = 4.834099769592285\n",
            "Chunk memory usage (MB) = 4.827242851257324\n",
            "Chunk memory usage (MB) = 4.823387145996094\n",
            "Chunk memory usage (MB) = 4.871550559997559\n",
            "Chunk memory usage (MB) = 4.830669403076172\n",
            "Chunk memory usage (MB) = 4.808708190917969\n",
            "Chunk memory usage (MB) = 4.6951704025268555\n",
            "Chunk memory usage (MB) = 3.938547134399414\n",
            "Chunk memory usage (MB) = 2.261368751525879\n",
            "----------------------------------------\n",
            "Total memory usage (MB) = 49.42516613006592\n",
            "----------------------------------------\n"
          ]
        }
      ]
    },
    {
      "cell_type": "code",
      "source": [
        "# Analyze the unique value counts across all of the chunks to see if we can convert them to a numeric type.\n",
        "\n",
        "df = pd.read_csv( 'https://bit.ly/3BPcobU', encoding = \"unicode_escape\",  usecols=use_cols, chunksize=5000)\n",
        "\n",
        "unique_count = []\n",
        "for chunk in df:\n",
        "  # Optimize numeric column\n",
        "  chunk['raised_amount_usd'] = chunk['raised_amount_usd'].fillna(0)\n",
        "  change_to_int(chunk, 'raised_amount_usd' )\n",
        "\n",
        "\n",
        "  chunk['funded_quarter'] = chunk['funded_quarter'].str.extract(r'Q(\\d)', expand=False)\n",
        "  chunk['funded_quarter'] = chunk['funded_quarter'].fillna(-1)\n",
        "  chunk['funded_quarter'] = chunk['funded_quarter'].astype('int8')\n",
        "\n",
        "  chunk_unique_values = chunk.select_dtypes(include=['object']).nunique() #pd.series with unique values per col\n",
        "  chunk_values_count = chunk.select_dtypes(include=['object']).count() #total no of items in col\n",
        "  unique_count.append((100*chunk_unique_values/chunk_values_count)) #add each chunk series to a list\n",
        "\n",
        "total_values_uniqueness = pd.concat(unique_count)\n",
        "total_values_uniqueness = total_values_uniqueness.groupby(total_values_uniqueness.index).mean()\n",
        "categorise_cols = list((total_values_uniqueness[total_values_uniqueness <50]).index)\n",
        "print(f'unique values percentage:\\n{total_values_uniqueness}')\n"
      ],
      "metadata": {
        "colab": {
          "base_uri": "https://localhost:8080/"
        },
        "id": "ZAQJEylhMyt-",
        "outputId": "f87dc18f-0cee-476e-e5f9-31cb82e2944a"
      },
      "execution_count": 25,
      "outputs": [
        {
          "output_type": "stream",
          "name": "stdout",
          "text": [
            "unique values percentage:\n",
            "company_category_code     0.885323\n",
            "company_city              9.884701\n",
            "company_country_code      0.023168\n",
            "company_name             57.691393\n",
            "company_permalink        57.691393\n",
            "company_region            3.899473\n",
            "company_state_code        0.959790\n",
            "funded_at                34.477606\n",
            "funding_round_type        0.169454\n",
            "investor_city             5.098421\n",
            "investor_country_code     0.762508\n",
            "investor_name            20.868260\n",
            "investor_permalink       21.044168\n",
            "investor_region           2.432371\n",
            "investor_state_code       0.915164\n",
            "dtype: float64\n"
          ]
        }
      ]
    },
    {
      "cell_type": "code",
      "source": [
        "#optimize string cols \n",
        "# Optimize numeric column\n",
        "total_memory = 0\n",
        "\n",
        "df = pd.read_csv( 'https://bit.ly/3BPcobU', encoding = \"unicode_escape\",  usecols=use_cols, chunksize=5000)\n",
        "for chunk in df:\n",
        "   \n",
        "    chunk['raised_amount_usd'] = chunk['raised_amount_usd'].fillna(0)\n",
        "    change_to_int(chunk, 'raised_amount_usd' )\n",
        " \n",
        "    chunk['funded_quarter'] = chunk['funded_quarter'].str.extract(r'Q(\\d)', expand=False)\n",
        "    chunk['funded_quarter'] = chunk['funded_quarter'].fillna(-1)\n",
        "    chunk['funded_quarter'] = chunk['funded_quarter'].astype('int8')\n",
        "\n",
        "    chunk[categorise_cols] = chunk[categorise_cols].astype('category')\n",
        "\n",
        "    chunk_memory = chunk.memory_usage(deep=True).sum()\n",
        "    total_memory += chunk_memory\n",
        "    print('Chunk memory usage (MB) =', chunk_memory/(1024**2))\n",
        "\n",
        "print('--'*20)\n",
        "print('Total memory usage (MB) =', total_memory/(1024**2))"
      ],
      "metadata": {
        "colab": {
          "base_uri": "https://localhost:8080/"
        },
        "id": "2b64p7D0OAgO",
        "outputId": "6fb85002-e377-4e9b-b7b9-0e71c07c73ac"
      },
      "execution_count": 26,
      "outputs": [
        {
          "output_type": "stream",
          "name": "stdout",
          "text": [
            "Chunk memory usage (MB) = 1.4321155548095703\n",
            "Chunk memory usage (MB) = 1.253652572631836\n",
            "Chunk memory usage (MB) = 1.2562618255615234\n",
            "Chunk memory usage (MB) = 1.1977252960205078\n",
            "Chunk memory usage (MB) = 1.2432384490966797\n",
            "Chunk memory usage (MB) = 1.2561683654785156\n",
            "Chunk memory usage (MB) = 1.2663860321044922\n",
            "Chunk memory usage (MB) = 1.242548942565918\n",
            "Chunk memory usage (MB) = 1.3025436401367188\n",
            "Chunk memory usage (MB) = 1.3927536010742188\n",
            "Chunk memory usage (MB) = 0.8324642181396484\n",
            "----------------------------------------\n",
            "Total memory usage (MB) = 13.675858497619629\n"
          ]
        }
      ]
    },
    {
      "cell_type": "markdown",
      "metadata": {
        "id": "OA2D7o4sds1t"
      },
      "source": [
        "## Question 3: Loading Chunks Into SQLite"
      ]
    },
    {
      "cell_type": "markdown",
      "metadata": {
        "id": "ptu8Xr25dvcF"
      },
      "source": [
        "Now we're in good shape to start exploring and analyzing the data. The next step is to load each chunk into a table in a SQLite database so we can query the full data set.\n",
        "\n",
        "**Tasks**\n",
        "\n",
        "1. Create and connect to a new SQLite database file.\n",
        "2. Expand on the existing chunk processing code to export each chunk to a new table in the SQLite database.\n",
        "3. Query the table and make sure the data types match up to what you had in mind for each column."
      ]
    },
    {
      "cell_type": "code",
      "metadata": {
        "id": "QH-j6fuXdu0v"
      },
      "source": [
        "# Your code goes here\n",
        "import sqlite3\n",
        "\n",
        " # Create and connect to a new database\n",
        "conn = sqlite3.connect('crunchbase.db')\n",
        "cur = conn.cursor()\n",
        "cur.execute('''DROP TABLE IF EXISTS investments''')\n",
        "\n",
        "\n",
        "\n",
        "df = pd.read_csv( 'https://bit.ly/3BPcobU', encoding = \"latin1\",  usecols=use_cols, chunksize=5000)\n",
        "for chunk in df:\n",
        "     \n",
        "   \n",
        "    chunk['raised_amount_usd'] = chunk['raised_amount_usd'].fillna(0)\n",
        "    change_to_int(chunk, 'raised_amount_usd' )\n",
        "\n",
        "    chunk = chunk[chunk['raised_amount_usd'] !=0] \n",
        "\n",
        "    chunk['funded_quarter'] = chunk['funded_quarter'].str.extract(r'Q(\\d)', expand=False)\n",
        "    chunk['funded_quarter'] = chunk['funded_quarter'].fillna(-1)\n",
        "    chunk['funded_quarter'] = chunk['funded_quarter'].astype('int8')\n",
        "\n",
        "    chunk[categorise_cols] = chunk[categorise_cols].astype('category')\n",
        "\n",
        "\n",
        "    chunk.to_sql('investments', conn, if_exists='append', index=False)"
      ],
      "execution_count": 28,
      "outputs": []
    },
    {
      "cell_type": "code",
      "source": [
        "# Query the table and make sure the data types match up to what you had in mind for each column.\n",
        "df1 = pd.read_sql('PRAGMA table_info(investments)', conn)\n",
        "df1"
      ],
      "metadata": {
        "colab": {
          "base_uri": "https://localhost:8080/",
          "height": 582
        },
        "id": "Ap6jZOjrO-8q",
        "outputId": "d5f73b59-34fc-4931-ed65-e980111378d1"
      },
      "execution_count": 29,
      "outputs": [
        {
          "output_type": "execute_result",
          "data": {
            "text/plain": [
              "    cid                   name     type  notnull dflt_value  pk\n",
              "0     0      company_permalink     TEXT        0       None   0\n",
              "1     1           company_name     TEXT        0       None   0\n",
              "2     2  company_category_code     TEXT        0       None   0\n",
              "3     3   company_country_code     TEXT        0       None   0\n",
              "4     4     company_state_code     TEXT        0       None   0\n",
              "5     5         company_region     TEXT        0       None   0\n",
              "6     6           company_city     TEXT        0       None   0\n",
              "7     7     investor_permalink     TEXT        0       None   0\n",
              "8     8          investor_name     TEXT        0       None   0\n",
              "9     9  investor_country_code     TEXT        0       None   0\n",
              "10   10    investor_state_code     TEXT        0       None   0\n",
              "11   11        investor_region     TEXT        0       None   0\n",
              "12   12          investor_city     TEXT        0       None   0\n",
              "13   13     funding_round_type     TEXT        0       None   0\n",
              "14   14              funded_at     TEXT        0       None   0\n",
              "15   15         funded_quarter  INTEGER        0       None   0\n",
              "16   16      raised_amount_usd  INTEGER        0       None   0"
            ],
            "text/html": [
              "\n",
              "  <div id=\"df-c4bf290a-ca92-4ef4-bb94-f4386045d79f\">\n",
              "    <div class=\"colab-df-container\">\n",
              "      <div>\n",
              "<style scoped>\n",
              "    .dataframe tbody tr th:only-of-type {\n",
              "        vertical-align: middle;\n",
              "    }\n",
              "\n",
              "    .dataframe tbody tr th {\n",
              "        vertical-align: top;\n",
              "    }\n",
              "\n",
              "    .dataframe thead th {\n",
              "        text-align: right;\n",
              "    }\n",
              "</style>\n",
              "<table border=\"1\" class=\"dataframe\">\n",
              "  <thead>\n",
              "    <tr style=\"text-align: right;\">\n",
              "      <th></th>\n",
              "      <th>cid</th>\n",
              "      <th>name</th>\n",
              "      <th>type</th>\n",
              "      <th>notnull</th>\n",
              "      <th>dflt_value</th>\n",
              "      <th>pk</th>\n",
              "    </tr>\n",
              "  </thead>\n",
              "  <tbody>\n",
              "    <tr>\n",
              "      <th>0</th>\n",
              "      <td>0</td>\n",
              "      <td>company_permalink</td>\n",
              "      <td>TEXT</td>\n",
              "      <td>0</td>\n",
              "      <td>None</td>\n",
              "      <td>0</td>\n",
              "    </tr>\n",
              "    <tr>\n",
              "      <th>1</th>\n",
              "      <td>1</td>\n",
              "      <td>company_name</td>\n",
              "      <td>TEXT</td>\n",
              "      <td>0</td>\n",
              "      <td>None</td>\n",
              "      <td>0</td>\n",
              "    </tr>\n",
              "    <tr>\n",
              "      <th>2</th>\n",
              "      <td>2</td>\n",
              "      <td>company_category_code</td>\n",
              "      <td>TEXT</td>\n",
              "      <td>0</td>\n",
              "      <td>None</td>\n",
              "      <td>0</td>\n",
              "    </tr>\n",
              "    <tr>\n",
              "      <th>3</th>\n",
              "      <td>3</td>\n",
              "      <td>company_country_code</td>\n",
              "      <td>TEXT</td>\n",
              "      <td>0</td>\n",
              "      <td>None</td>\n",
              "      <td>0</td>\n",
              "    </tr>\n",
              "    <tr>\n",
              "      <th>4</th>\n",
              "      <td>4</td>\n",
              "      <td>company_state_code</td>\n",
              "      <td>TEXT</td>\n",
              "      <td>0</td>\n",
              "      <td>None</td>\n",
              "      <td>0</td>\n",
              "    </tr>\n",
              "    <tr>\n",
              "      <th>5</th>\n",
              "      <td>5</td>\n",
              "      <td>company_region</td>\n",
              "      <td>TEXT</td>\n",
              "      <td>0</td>\n",
              "      <td>None</td>\n",
              "      <td>0</td>\n",
              "    </tr>\n",
              "    <tr>\n",
              "      <th>6</th>\n",
              "      <td>6</td>\n",
              "      <td>company_city</td>\n",
              "      <td>TEXT</td>\n",
              "      <td>0</td>\n",
              "      <td>None</td>\n",
              "      <td>0</td>\n",
              "    </tr>\n",
              "    <tr>\n",
              "      <th>7</th>\n",
              "      <td>7</td>\n",
              "      <td>investor_permalink</td>\n",
              "      <td>TEXT</td>\n",
              "      <td>0</td>\n",
              "      <td>None</td>\n",
              "      <td>0</td>\n",
              "    </tr>\n",
              "    <tr>\n",
              "      <th>8</th>\n",
              "      <td>8</td>\n",
              "      <td>investor_name</td>\n",
              "      <td>TEXT</td>\n",
              "      <td>0</td>\n",
              "      <td>None</td>\n",
              "      <td>0</td>\n",
              "    </tr>\n",
              "    <tr>\n",
              "      <th>9</th>\n",
              "      <td>9</td>\n",
              "      <td>investor_country_code</td>\n",
              "      <td>TEXT</td>\n",
              "      <td>0</td>\n",
              "      <td>None</td>\n",
              "      <td>0</td>\n",
              "    </tr>\n",
              "    <tr>\n",
              "      <th>10</th>\n",
              "      <td>10</td>\n",
              "      <td>investor_state_code</td>\n",
              "      <td>TEXT</td>\n",
              "      <td>0</td>\n",
              "      <td>None</td>\n",
              "      <td>0</td>\n",
              "    </tr>\n",
              "    <tr>\n",
              "      <th>11</th>\n",
              "      <td>11</td>\n",
              "      <td>investor_region</td>\n",
              "      <td>TEXT</td>\n",
              "      <td>0</td>\n",
              "      <td>None</td>\n",
              "      <td>0</td>\n",
              "    </tr>\n",
              "    <tr>\n",
              "      <th>12</th>\n",
              "      <td>12</td>\n",
              "      <td>investor_city</td>\n",
              "      <td>TEXT</td>\n",
              "      <td>0</td>\n",
              "      <td>None</td>\n",
              "      <td>0</td>\n",
              "    </tr>\n",
              "    <tr>\n",
              "      <th>13</th>\n",
              "      <td>13</td>\n",
              "      <td>funding_round_type</td>\n",
              "      <td>TEXT</td>\n",
              "      <td>0</td>\n",
              "      <td>None</td>\n",
              "      <td>0</td>\n",
              "    </tr>\n",
              "    <tr>\n",
              "      <th>14</th>\n",
              "      <td>14</td>\n",
              "      <td>funded_at</td>\n",
              "      <td>TEXT</td>\n",
              "      <td>0</td>\n",
              "      <td>None</td>\n",
              "      <td>0</td>\n",
              "    </tr>\n",
              "    <tr>\n",
              "      <th>15</th>\n",
              "      <td>15</td>\n",
              "      <td>funded_quarter</td>\n",
              "      <td>INTEGER</td>\n",
              "      <td>0</td>\n",
              "      <td>None</td>\n",
              "      <td>0</td>\n",
              "    </tr>\n",
              "    <tr>\n",
              "      <th>16</th>\n",
              "      <td>16</td>\n",
              "      <td>raised_amount_usd</td>\n",
              "      <td>INTEGER</td>\n",
              "      <td>0</td>\n",
              "      <td>None</td>\n",
              "      <td>0</td>\n",
              "    </tr>\n",
              "  </tbody>\n",
              "</table>\n",
              "</div>\n",
              "      <button class=\"colab-df-convert\" onclick=\"convertToInteractive('df-c4bf290a-ca92-4ef4-bb94-f4386045d79f')\"\n",
              "              title=\"Convert this dataframe to an interactive table.\"\n",
              "              style=\"display:none;\">\n",
              "        \n",
              "  <svg xmlns=\"http://www.w3.org/2000/svg\" height=\"24px\"viewBox=\"0 0 24 24\"\n",
              "       width=\"24px\">\n",
              "    <path d=\"M0 0h24v24H0V0z\" fill=\"none\"/>\n",
              "    <path d=\"M18.56 5.44l.94 2.06.94-2.06 2.06-.94-2.06-.94-.94-2.06-.94 2.06-2.06.94zm-11 1L8.5 8.5l.94-2.06 2.06-.94-2.06-.94L8.5 2.5l-.94 2.06-2.06.94zm10 10l.94 2.06.94-2.06 2.06-.94-2.06-.94-.94-2.06-.94 2.06-2.06.94z\"/><path d=\"M17.41 7.96l-1.37-1.37c-.4-.4-.92-.59-1.43-.59-.52 0-1.04.2-1.43.59L10.3 9.45l-7.72 7.72c-.78.78-.78 2.05 0 2.83L4 21.41c.39.39.9.59 1.41.59.51 0 1.02-.2 1.41-.59l7.78-7.78 2.81-2.81c.8-.78.8-2.07 0-2.86zM5.41 20L4 18.59l7.72-7.72 1.47 1.35L5.41 20z\"/>\n",
              "  </svg>\n",
              "      </button>\n",
              "      \n",
              "  <style>\n",
              "    .colab-df-container {\n",
              "      display:flex;\n",
              "      flex-wrap:wrap;\n",
              "      gap: 12px;\n",
              "    }\n",
              "\n",
              "    .colab-df-convert {\n",
              "      background-color: #E8F0FE;\n",
              "      border: none;\n",
              "      border-radius: 50%;\n",
              "      cursor: pointer;\n",
              "      display: none;\n",
              "      fill: #1967D2;\n",
              "      height: 32px;\n",
              "      padding: 0 0 0 0;\n",
              "      width: 32px;\n",
              "    }\n",
              "\n",
              "    .colab-df-convert:hover {\n",
              "      background-color: #E2EBFA;\n",
              "      box-shadow: 0px 1px 2px rgba(60, 64, 67, 0.3), 0px 1px 3px 1px rgba(60, 64, 67, 0.15);\n",
              "      fill: #174EA6;\n",
              "    }\n",
              "\n",
              "    [theme=dark] .colab-df-convert {\n",
              "      background-color: #3B4455;\n",
              "      fill: #D2E3FC;\n",
              "    }\n",
              "\n",
              "    [theme=dark] .colab-df-convert:hover {\n",
              "      background-color: #434B5C;\n",
              "      box-shadow: 0px 1px 3px 1px rgba(0, 0, 0, 0.15);\n",
              "      filter: drop-shadow(0px 1px 2px rgba(0, 0, 0, 0.3));\n",
              "      fill: #FFFFFF;\n",
              "    }\n",
              "  </style>\n",
              "\n",
              "      <script>\n",
              "        const buttonEl =\n",
              "          document.querySelector('#df-c4bf290a-ca92-4ef4-bb94-f4386045d79f button.colab-df-convert');\n",
              "        buttonEl.style.display =\n",
              "          google.colab.kernel.accessAllowed ? 'block' : 'none';\n",
              "\n",
              "        async function convertToInteractive(key) {\n",
              "          const element = document.querySelector('#df-c4bf290a-ca92-4ef4-bb94-f4386045d79f');\n",
              "          const dataTable =\n",
              "            await google.colab.kernel.invokeFunction('convertToInteractive',\n",
              "                                                     [key], {});\n",
              "          if (!dataTable) return;\n",
              "\n",
              "          const docLinkHtml = 'Like what you see? Visit the ' +\n",
              "            '<a target=\"_blank\" href=https://colab.research.google.com/notebooks/data_table.ipynb>data table notebook</a>'\n",
              "            + ' to learn more about interactive tables.';\n",
              "          element.innerHTML = '';\n",
              "          dataTable['output_type'] = 'display_data';\n",
              "          await google.colab.output.renderOutput(dataTable, element);\n",
              "          const docLink = document.createElement('div');\n",
              "          docLink.innerHTML = docLinkHtml;\n",
              "          element.appendChild(docLink);\n",
              "        }\n",
              "      </script>\n",
              "    </div>\n",
              "  </div>\n",
              "  "
            ]
          },
          "metadata": {},
          "execution_count": 29
        }
      ]
    },
    {
      "cell_type": "markdown",
      "metadata": {
        "id": "Rt1jPEhseD8r"
      },
      "source": [
        "## Question 4: Next Steps"
      ]
    },
    {
      "cell_type": "markdown",
      "metadata": {
        "id": "Ggt-hEebeJGr"
      },
      "source": [
        "Now that the data is in SQLite, we can use the pandas SQLite workflow we learned in the last lesson to explore and analyze startup investments. Remember that each row isn't a unique company, but a unique investment from a single investor. This means that many startups will span multiple rows.\n",
        "\n",
        "Use the pandas SQLite workflow to answer the following questions:\n",
        "\n",
        "* What proportion of the total amount of funds did the top 10% raise? What about the top 1%? Compare these values to the proportions the bottom 10% and bottom 1% raised.\n",
        "* Which category of company attracted the most investments?\n",
        "* Which investor contributed the most money (across all startups)?\n",
        "* Which investors contributed the most money per startup?\n",
        "* Which funding round was the most popular? Which was the least popular?\n",
        "\n",
        "Here are some ideas for further exploration:\n",
        "\n",
        "* Repeat the tasks in this project using stricter memory constraints (under 1 megabyte).\n",
        "* Clean and analyze the other Crunchbase data sets from the same GitHub repo.\n",
        "* Understand which columns the data sets share, and how the data sets are linked.\n",
        "* Create a relational database design that links the data sets together and reduces the overall disk space the database file consumes.\n",
        "\n",
        "Use pandas to populate each table in the database, create the appropriate indexes, and so on."
      ]
    },
    {
      "cell_type": "code",
      "metadata": {
        "id": "FJo2f7N-ebgX",
        "colab": {
          "base_uri": "https://localhost:8080/"
        },
        "outputId": "0a173869-0bb7-4d9f-e97d-a8a38f2323d2"
      },
      "source": [
        "# Your code goes here\n",
        "query = '''\n",
        "    SELECT \n",
        "        company_name, \n",
        "        company_category_code,\n",
        "        investor_name,\n",
        "        funding_round_type,\n",
        "        raised_amount_usd\n",
        "    FROM \n",
        "        investments\n",
        "'''\n",
        "results_df = pd.read_sql(query, conn)\n",
        "\n",
        "grouped = results_df.groupby(by='company_name').raised_amount_usd.sum()     #get results by co name and  amt\n",
        "ncompanies = results_df.nunique().company_name    #get unique Co's\n",
        "ordered = grouped.sort_values(ascending=False)\n",
        "\n",
        "# What proportion of the total amount of funds did the top 10% raise? What about the top 1%? Compare these values to the proportions the bottom 10% and bottom 1% raised.\n",
        "top_10pct = ordered.head(int(round(ncompanies*.10)))\n",
        "bottom_10pct = ordered.tail(int(round(ncompanies*.10)))\n",
        "\n",
        "print(f'\\n Top 10% raised: {100*top_10pct.sum()/ grouped.sum()}%. Amount: {top_10pct.sum()} ' )\n",
        "print(f'\\n Bottom 10% raised: {100*bottom_10pct.sum()/ grouped.sum()}%. Amount: {bottom_10pct.sum()} ' )"
      ],
      "execution_count": 33,
      "outputs": [
        {
          "output_type": "stream",
          "name": "stdout",
          "text": [
            "\n",
            " Top 10% raised: 64.56178900319603%. Amount: 440138496766 \n",
            "\n",
            " Bottom 10% raised: 0.02676334405486896%. Amount: 182454331 \n"
          ]
        }
      ]
    },
    {
      "cell_type": "code",
      "source": [
        "# Which category of company attracted the most investments?\n",
        "results_df.groupby(by='company_category_code').raised_amount_usd.sum().sort_values(ascending=False).head()"
      ],
      "metadata": {
        "colab": {
          "base_uri": "https://localhost:8080/"
        },
        "id": "RJJX2B5zRXHL",
        "outputId": "45415ff5-6473-4186-c05a-3668568bd825"
      },
      "execution_count": 34,
      "outputs": [
        {
          "output_type": "execute_result",
          "data": {
            "text/plain": [
              "company_category_code\n",
              "biotech       110396423062\n",
              "software       73084516724\n",
              "mobile         64777379752\n",
              "cleantech      52705225028\n",
              "enterprise     45860927273\n",
              "Name: raised_amount_usd, dtype: int64"
            ]
          },
          "metadata": {},
          "execution_count": 34
        }
      ]
    },
    {
      "cell_type": "code",
      "source": [
        "# Which investor contributed the most money (across all startups)?\n",
        "\n",
        "results_df.groupby(by='investor_name').raised_amount_usd.sum().sort_values(ascending=False).head(1)"
      ],
      "metadata": {
        "colab": {
          "base_uri": "https://localhost:8080/"
        },
        "id": "cocTp5WWRSOl",
        "outputId": "c30e5dd2-15b1-4a0e-83f3-902053baed35"
      },
      "execution_count": 35,
      "outputs": [
        {
          "output_type": "execute_result",
          "data": {
            "text/plain": [
              "investor_name\n",
              "Kleiner Perkins Caufield & Byers    11217826376\n",
              "Name: raised_amount_usd, dtype: int64"
            ]
          },
          "metadata": {},
          "execution_count": 35
        }
      ]
    },
    {
      "cell_type": "code",
      "source": [],
      "metadata": {
        "id": "KSoSzVZaS-J-"
      },
      "execution_count": null,
      "outputs": []
    },
    {
      "cell_type": "code",
      "source": [
        "# Which investors contributed the most money per startup?\n",
        "sums = results_df.groupby(by=['company_name', 'investor_name']).raised_amount_usd.sum()\n",
        "ranked = sums.groupby(by='company_name').rank(method='dense', ascending=False)\n",
        "maxes = ranked[ranked == 1]\n",
        "maxes"
      ],
      "metadata": {
        "colab": {
          "base_uri": "https://localhost:8080/"
        },
        "id": "2_C_WXaNSuRr",
        "outputId": "27d19359-cc05-4252-aa22-6b89ee873aef"
      },
      "execution_count": 36,
      "outputs": [
        {
          "output_type": "execute_result",
          "data": {
            "text/plain": [
              "company_name  investor_name       \n",
              "#waywire      First Round Capital     1.0\n",
              "              Innovation Endeavors    1.0\n",
              "              Jeff Weiner             1.0\n",
              "              Oprah Winfrey           1.0\n",
              "              Troy Carter             1.0\n",
              "                                     ... \n",
              "ybuy          TomorrowVentures        1.0\n",
              "zozi          500 Startups            1.0\n",
              "              LaunchCapital           1.0\n",
              "              PAR Capital Ventures    1.0\n",
              "zulily        Andreessen Horowitz     1.0\n",
              "Name: raised_amount_usd, Length: 24030, dtype: float64"
            ]
          },
          "metadata": {},
          "execution_count": 36
        }
      ]
    },
    {
      "cell_type": "code",
      "source": [
        "# Which funding round was the most popular? Which was the least popular?\n",
        "rounds = results_df.funding_round_type.value_counts()\n",
        "print(\"Most Popular funding round: \", rounds.idxmax())\n",
        "print(\"least popular funding round: \", rounds.idxmin())"
      ],
      "metadata": {
        "colab": {
          "base_uri": "https://localhost:8080/"
        },
        "id": "7LhzZLjqS_UL",
        "outputId": "a24141e3-f08c-49b9-8b15-409bb49a7085"
      },
      "execution_count": 37,
      "outputs": [
        {
          "output_type": "stream",
          "name": "stdout",
          "text": [
            "Most Popular funding round:  series-a\n",
            "least popular funding round:  crowdfunding\n"
          ]
        }
      ]
    }
  ]
}